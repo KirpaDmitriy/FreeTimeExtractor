{
  "nbformat": 4,
  "nbformat_minor": 0,
  "metadata": {
    "colab": {
      "provenance": [],
      "authorship_tag": "ABX9TyOMEpP89xVWpKWtrSm8Zm/b",
      "include_colab_link": true
    },
    "kernelspec": {
      "name": "python3",
      "display_name": "Python 3"
    },
    "language_info": {
      "name": "python"
    }
  },
  "cells": [
    {
      "cell_type": "markdown",
      "metadata": {
        "id": "view-in-github",
        "colab_type": "text"
      },
      "source": [
        "<a href=\"https://colab.research.google.com/github/KirpaDmitriy/FreeTimeExtractor/blob/main/FreeTimeExtractor.ipynb\" target=\"_parent\"><img src=\"https://colab.research.google.com/assets/colab-badge.svg\" alt=\"Open In Colab\"/></a>"
      ]
    },
    {
      "cell_type": "markdown",
      "source": [
        "<h1>Извлечение не занятых событиями календаря временных отрезков</h1>"
      ],
      "metadata": {
        "id": "z-V7zR6eKYi8"
      }
    },
    {
      "cell_type": "code",
      "execution_count": 1,
      "metadata": {
        "id": "CjsrNv-btgBs"
      },
      "outputs": [],
      "source": [
        "from datetime import datetime, date, time, timedelta\n",
        "\n",
        "MIN_DATETME = datetime(1999, 1, 1, 1, 1)\n",
        "\n",
        "class UserOccupiedSegment:  # события календаря\n",
        "  def __init__(self, event_id: str, start: datetime, finish: datetime):\n",
        "    self.event_id = event_id\n",
        "    self.from_datetime = start\n",
        "    self.to_datetime = finish\n",
        "  \n",
        "  def __repr__(self):\n",
        "    return f\"Segment {self.event_id} from {self.from_datetime} till {self.to_datetime}\""
      ]
    },
    {
      "cell_type": "markdown",
      "source": [
        "Алгоритм следующий: идём по сортированному списку событий календаря. Для каждого текущего просматриваем, какие уже начавшиеся события успели также и закончится перед началом рассматриваемого. Среди них выбираем максимальный конец <i>PrevMAX</i> - время, начиная с которого между предыдущими событиями и текущим нет ни одного события. Отрезок [<i>PrevMAX</i>; <i>начало текущего события</i>] - отрезок свободного времени. События, которые кончились перед текущим удаляем из рассмотрения."
      ],
      "metadata": {
        "id": "NZUc078kKu4u"
      }
    },
    {
      "cell_type": "code",
      "source": [
        "def get_free_time_segments_list(busy: list):\n",
        "  busy.sort(key=lambda uos: uos.from_datetime)\n",
        "  print(f\"Busy sorted: {busy}\")\n",
        "  busy_dict = {}\n",
        "  free_segments = []\n",
        "  for uos in busy:\n",
        "    current_start = uos.from_datetime\n",
        "    busy_dict[uos.event_id] = uos.to_datetime\n",
        "\n",
        "    just_before_current = MIN_DATETME\n",
        "    just_before_current_valid = False\n",
        "    for previous_id, previous_finish in list(busy_dict.items()):\n",
        "      if previous_finish < current_start:\n",
        "        just_before_current = max(just_before_current, previous_finish)\n",
        "        just_before_current_valid = True\n",
        "        busy_dict.pop(previous_id)\n",
        "    if just_before_current_valid:\n",
        "      free_segments.append({\n",
        "          \"start\": just_before_current,\n",
        "          \"finish\": current_start\n",
        "      })\n",
        "  \n",
        "  return free_segments"
      ],
      "metadata": {
        "id": "CGCSVKjztzZF"
      },
      "execution_count": 2,
      "outputs": []
    },
    {
      "cell_type": "code",
      "source": [
        "busy_list = [\n",
        "    UserOccupiedSegment(\"1\", datetime(2022, 11, 20, 9, 0), datetime(2022, 11, 20, 17, 39)),\n",
        "    UserOccupiedSegment(\"2\", datetime(2022, 11, 20, 2, 4), datetime(2022, 11, 20, 2, 6)),\n",
        "    UserOccupiedSegment(\"3\", datetime(2022, 11, 20, 7, 8), datetime(2022, 11, 20, 8, 7)),\n",
        "    UserOccupiedSegment(\"4\", datetime(2022, 11, 20, 21, 20), datetime(2022, 11, 20, 23, 55)),\n",
        "    UserOccupiedSegment(\"5\", datetime(2022, 11, 20, 0, 1), datetime(2022, 11, 20, 1, 56)),\n",
        "    UserOccupiedSegment(\"6\", datetime(2022, 11, 20, 17, 40), datetime(2022, 11, 20, 18, 26)),\n",
        "]\n",
        "print(f\"Busy raw: {busy_list}\")\n",
        "\n",
        "free_list = list(map(\n",
        "    lambda fts: f\"Time segment from {fts['start']} till {fts['finish']}\",\n",
        "    get_free_time_segments_list(busy_list)\n",
        "))\n",
        "print(f\"Free: \", end=\"\"); print(*free_list, sep=\", \")"
      ],
      "metadata": {
        "colab": {
          "base_uri": "https://localhost:8080/"
        },
        "id": "tZKz7M0DHY-G",
        "outputId": "953cc122-13c7-4a2d-ad78-3757b527649c"
      },
      "execution_count": 3,
      "outputs": [
        {
          "output_type": "stream",
          "name": "stdout",
          "text": [
            "Busy raw: [Segment 1 from 2022-11-20 09:00:00 till 2022-11-20 17:39:00, Segment 2 from 2022-11-20 02:04:00 till 2022-11-20 02:06:00, Segment 3 from 2022-11-20 07:08:00 till 2022-11-20 08:07:00, Segment 4 from 2022-11-20 21:20:00 till 2022-11-20 23:55:00, Segment 5 from 2022-11-20 00:01:00 till 2022-11-20 01:56:00, Segment 6 from 2022-11-20 17:40:00 till 2022-11-20 18:26:00]\n",
            "Busy sorted: [Segment 5 from 2022-11-20 00:01:00 till 2022-11-20 01:56:00, Segment 2 from 2022-11-20 02:04:00 till 2022-11-20 02:06:00, Segment 3 from 2022-11-20 07:08:00 till 2022-11-20 08:07:00, Segment 1 from 2022-11-20 09:00:00 till 2022-11-20 17:39:00, Segment 6 from 2022-11-20 17:40:00 till 2022-11-20 18:26:00, Segment 4 from 2022-11-20 21:20:00 till 2022-11-20 23:55:00]\n",
            "Free: Time segment from 2022-11-20 01:56:00 till 2022-11-20 02:04:00, Time segment from 2022-11-20 02:06:00 till 2022-11-20 07:08:00, Time segment from 2022-11-20 08:07:00 till 2022-11-20 09:00:00, Time segment from 2022-11-20 17:39:00 till 2022-11-20 17:40:00, Time segment from 2022-11-20 18:26:00 till 2022-11-20 21:20:00\n"
          ]
        }
      ]
    },
    {
      "cell_type": "markdown",
      "source": [
        "Теперь можно достать отрезки свободного времени для заданного промежутка."
      ],
      "metadata": {
        "id": "Zift6s4NQTDw"
      }
    },
    {
      "cell_type": "code",
      "source": [
        "def get_free_time_segments_list_bounded(busy: list, lb: datetime, ub: datetime):\n",
        "  fts = get_free_time_segments_list(busy)  # тут from_datetime посортированы\n",
        "  fts = [\n",
        "      ft for ft in fts\n",
        "         if (lb <= ft[\"start\"] <= ub) and (lb <= ft[\"finish\"] <= ub)\n",
        "  ]\n",
        "  earliest_start = busy[0].from_datetime\n",
        "  if earliest_start > lb:\n",
        "    fts = [ {\"start\": lb, \"finish\": earliest_start} ] + fts\n",
        "  latest_finish = max([bt.to_datetime for bt in busy])\n",
        "  if latest_finish < ub:\n",
        "    fts += [ {\"start\": latest_finish, \"finish\": ub} ]\n",
        "  return fts"
      ],
      "metadata": {
        "id": "KFyiAPOLQmA8"
      },
      "execution_count": 14,
      "outputs": []
    },
    {
      "cell_type": "code",
      "source": [
        "free_list_bounded = list(map(\n",
        "    lambda fts: f\"Time segment from {fts['start']} till {fts['finish']}\",\n",
        "    get_free_time_segments_list_bounded(\n",
        "        busy_list,\n",
        "        datetime(2022, 11, 20, 17, 40),\n",
        "        datetime(2022, 11, 20, 23, 45)\n",
        ")))\n",
        "print(f\"Free: \", end=\"\"); print(*free_list_bounded, sep=\", \")"
      ],
      "metadata": {
        "colab": {
          "base_uri": "https://localhost:8080/"
        },
        "id": "_xooT42N5Z6k",
        "outputId": "d0f083ad-64b6-412a-baa2-7e30611751a8"
      },
      "execution_count": 16,
      "outputs": [
        {
          "output_type": "stream",
          "name": "stdout",
          "text": [
            "Busy sorted: [Segment 5 from 2022-11-20 00:01:00 till 2022-11-20 01:56:00, Segment 2 from 2022-11-20 02:04:00 till 2022-11-20 02:06:00, Segment 3 from 2022-11-20 07:08:00 till 2022-11-20 08:07:00, Segment 1 from 2022-11-20 09:00:00 till 2022-11-20 17:39:00, Segment 6 from 2022-11-20 17:40:00 till 2022-11-20 18:26:00, Segment 4 from 2022-11-20 21:20:00 till 2022-11-20 23:55:00]\n",
            "Free: Time segment from 2022-11-20 18:26:00 till 2022-11-20 21:20:00\n"
          ]
        }
      ]
    },
    {
      "cell_type": "code",
      "source": [
        "free_list_extended = list(map(\n",
        "    lambda fts: f\"Time segment from {fts['start']} till {fts['finish']}\",\n",
        "    get_free_time_segments_list_bounded(\n",
        "        busy_list,\n",
        "        datetime(2022, 11, 19, 17, 40),\n",
        "        datetime(2022, 11, 21, 23, 45)\n",
        ")))\n",
        "print(f\"Free: \", end=\"\"); print(*free_list_extended, sep=\", \")"
      ],
      "metadata": {
        "colab": {
          "base_uri": "https://localhost:8080/"
        },
        "id": "9zIFs71T6xE4",
        "outputId": "fd519080-09b5-43be-9e2a-b1311a559952"
      },
      "execution_count": 17,
      "outputs": [
        {
          "output_type": "stream",
          "name": "stdout",
          "text": [
            "Busy sorted: [Segment 5 from 2022-11-20 00:01:00 till 2022-11-20 01:56:00, Segment 2 from 2022-11-20 02:04:00 till 2022-11-20 02:06:00, Segment 3 from 2022-11-20 07:08:00 till 2022-11-20 08:07:00, Segment 1 from 2022-11-20 09:00:00 till 2022-11-20 17:39:00, Segment 6 from 2022-11-20 17:40:00 till 2022-11-20 18:26:00, Segment 4 from 2022-11-20 21:20:00 till 2022-11-20 23:55:00]\n",
            "Free: Time segment from 2022-11-19 17:40:00 till 2022-11-20 00:01:00, Time segment from 2022-11-20 01:56:00 till 2022-11-20 02:04:00, Time segment from 2022-11-20 02:06:00 till 2022-11-20 07:08:00, Time segment from 2022-11-20 08:07:00 till 2022-11-20 09:00:00, Time segment from 2022-11-20 17:39:00 till 2022-11-20 17:40:00, Time segment from 2022-11-20 18:26:00 till 2022-11-20 21:20:00, Time segment from 2022-11-20 23:55:00 till 2022-11-21 23:45:00\n"
          ]
        }
      ]
    }
  ]
}